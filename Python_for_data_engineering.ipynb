{
  "nbformat": 4,
  "nbformat_minor": 0,
  "metadata": {
    "colab": {
      "provenance": [],
      "authorship_tag": "ABX9TyMMcVYdw1pjlkfISW5WARhc",
      "include_colab_link": true
    },
    "kernelspec": {
      "name": "python3",
      "display_name": "Python 3"
    },
    "language_info": {
      "name": "python"
    }
  },
  "cells": [
    {
      "cell_type": "markdown",
      "metadata": {
        "id": "view-in-github",
        "colab_type": "text"
      },
      "source": [
        "<a href=\"https://colab.research.google.com/github/blacktalenthubs/data-engineering-track/blob/main/Python_for_data_engineering.ipynb\" target=\"_parent\"><img src=\"https://colab.research.google.com/assets/colab-badge.svg\" alt=\"Open In Colab\"/></a>"
      ]
    },
    {
      "cell_type": "markdown",
      "source": [
        "## **1. Introduction to Data Structures**\n",
        "\n",
        "Data structures are fundamental constructs that allow you to store and organize data efficiently. Understanding how to use them is crucial for data engineering tasks such as data manipulation, transformation, and storage."
      ],
      "metadata": {
        "id": "YXEz69NvZuOY"
      }
    },
    {
      "cell_type": "markdown",
      "source": [
        "## **Table of Contents**\n",
        "\n",
        "1. [Introduction to Data Structures](#1-introduction-to-data-structures)\n",
        "    - [Lists](#lists)\n",
        "    - [Sets](#sets)\n",
        "    - [Dictionaries](#dictionaries)\n",
        "2. [Defining and Invoking Functions](#2-defining-and-invoking-functions)\n",
        "3. [Using Data Structures with Functions](#3-using-data-structures-with-functions)\n",
        "4. [Modules and Packages](#4-modules-and-packages)\n",
        "    - [Importing Built-in Modules](#importing-built-in-modules)\n",
        "    - [Creating and Importing Custom Modules](#creating-and-importing-custom-modules)\n",
        "5. [Comprehensive Examples and Problems](#5-comprehensive-examples-and-problems)\n",
        "6. [Conclusion](#6-conclusion)\n",
        "7. [Further Practice](#7-further-practice)\n",
        "8. [Additional Resources](#8-additional-resources)"
      ],
      "metadata": {
        "id": "Em9MKqYyZ-VI"
      }
    },
    {
      "cell_type": "markdown",
      "source": [
        "## **1. Introduction to Data Structures**\n",
        "\n",
        "Data structures are fundamental constructs that allow you to store and organize data efficiently. Understanding how to use them is crucial for data engineering tasks such as data manipulation, transformation, and storage."
      ],
      "metadata": {
        "id": "UkoMW4ExaB4Y"
      }
    },
    {
      "cell_type": "markdown",
      "source": [],
      "metadata": {
        "id": "QpWtw8ama58k"
      }
    },
    {
      "cell_type": "markdown",
      "source": [],
      "metadata": {
        "id": "QIXREbiZaJmG"
      }
    },
    {
      "cell_type": "markdown",
      "source": [
        "### **Lists**\n",
        "\n",
        "**Definition:** A list is an ordered, mutable collection of items that can be of different types.\n",
        "\n",
        "**Characteristics:**\n",
        "\n",
        "- **Ordered:** Elements have a defined sequence.\n",
        "- **Mutable:** Elements can be added, removed, or changed.\n",
        "- **Allows duplicate elements.**"
      ],
      "metadata": {
        "id": "gLTlbF3QaJrs"
      }
    },
    {
      "cell_type": "code",
      "source": [
        "# Creating a list of integers\n",
        "numbers = [10, 20, 30, 40, 50]\n",
        "\n",
        "# Accessing elements\n",
        "first_number = numbers[0]\n",
        "last_number = numbers[-1]\n",
        "\n",
        "# Modifying elements\n",
        "numbers[2] = 35\n",
        "\n",
        "# Adding elements\n",
        "numbers.append(60)\n",
        "\n",
        "# Removing elements\n",
        "numbers.remove(20)\n",
        "\n",
        "# Resulting list\n",
        "print(numbers)"
      ],
      "metadata": {
        "id": "ZRxxxpeVaTAO"
      },
      "execution_count": null,
      "outputs": []
    },
    {
      "cell_type": "code",
      "source": [],
      "metadata": {
        "id": "opH10sfIaUJE"
      },
      "execution_count": null,
      "outputs": []
    },
    {
      "cell_type": "markdown",
      "source": [
        "### **Sets**\n",
        "\n",
        "**Definition:** A set is an unordered collection of unique items.\n",
        "\n",
        "**Characteristics:**\n",
        "\n",
        "- **Unordered:** No indexing or order of elements.\n",
        "- **Mutable:** Elements can be added or removed.\n",
        "- **No duplicate elements.**"
      ],
      "metadata": {
        "id": "lHfg8Me-aVRJ"
      }
    },
    {
      "cell_type": "markdown",
      "source": [],
      "metadata": {
        "id": "vzwB1IUIay03"
      }
    },
    {
      "cell_type": "code",
      "source": [
        "# Creating a set of strings\n",
        "unique_ids = {'id1', 'id2', 'id3'}\n",
        "\n",
        "# Adding an element\n",
        "unique_ids.add('id4')\n",
        "\n",
        "# Attempting to add a duplicate element\n",
        "unique_ids.add('id2')\n",
        "\n",
        "# Removing an element\n",
        "unique_ids.discard('id1')\n",
        "\n",
        "# Resulting set\n",
        "print(unique_ids)"
      ],
      "metadata": {
        "id": "80k_XnbWazN9"
      },
      "execution_count": null,
      "outputs": []
    },
    {
      "cell_type": "markdown",
      "source": [
        "### **Dictionaries**\n",
        "\n",
        "**Definition:** A dictionary is an unordered collection of key-value pairs.\n",
        "\n",
        "**Characteristics:**\n",
        "\n",
        "- **Unordered (prior to Python 3.7):** Insertion order is not guaranteed.\n",
        "- **Mutable:** Entries can be added, modified, or removed.\n",
        "- **Keys must be unique and of immutable types.**"
      ],
      "metadata": {
        "id": "UQIGm-Iza7Po"
      }
    },
    {
      "cell_type": "code",
      "source": [
        "# Creating a dictionary\n",
        "employee = {\n",
        "    'id': 'E001',\n",
        "    'name': 'Alice',\n",
        "    'department': 'Engineering'\n",
        "}\n",
        "\n",
        "# Accessing values\n",
        "employee_name = employee['name']\n",
        "\n",
        "# Modifying values\n",
        "employee['department'] = 'Data Science'\n",
        "\n",
        "# Adding a new key-value pair\n",
        "employee['position'] = 'Data Engineer'\n",
        "\n",
        "# Removing a key-value pair\n",
        "del employee['id']\n",
        "\n",
        "# Resulting dictionary\n",
        "print(employee)"
      ],
      "metadata": {
        "id": "GiwR69z5a_ay"
      },
      "execution_count": null,
      "outputs": []
    },
    {
      "cell_type": "markdown",
      "source": [
        "## **2. Defining and Invoking Functions**\n",
        "\n",
        "**Definition:** A function is a reusable block of code that performs a specific task.\n",
        "\n",
        "**Syntax:**\n",
        "\n",
        "```python\n",
        "def function_name(parameters):\n",
        "    # Function body\n",
        "    return result"
      ],
      "metadata": {
        "id": "Vs_clC_MbCq5"
      }
    },
    {
      "cell_type": "code",
      "source": [
        "---\n",
        "\n",
        "```python\n",
        "def calculate_average(numbers):\n",
        "    total = sum(numbers)\n",
        "    count = len(numbers)\n",
        "    average = total / count\n",
        "    return average\n",
        "\n",
        "data_points = [10, 20, 30, 40, 50]\n",
        "average_value = calculate_average(data_points)\n",
        "print(average_value)"
      ],
      "metadata": {
        "id": "0w7-ktM2bHol"
      },
      "execution_count": null,
      "outputs": []
    },
    {
      "cell_type": "markdown",
      "source": [
        "## **3. Using Data Structures with Functions**\n",
        "\n",
        "Functions can accept data structures as parameters and return them as outputs, enabling complex data manipulations.\n",
        "\n",
        "**Example: Filtering Data from a List**"
      ],
      "metadata": {
        "id": "nUhA0TZWbLpa"
      }
    },
    {
      "cell_type": "code",
      "source": [
        "def filter_even_numbers(numbers):\n",
        "    even_numbers = []\n",
        "    for num in numbers:\n",
        "        if num % 2 == 0:\n",
        "            even_numbers.append(num)\n",
        "    return even_numbers\n",
        "\n",
        "data = [1, 2, 3, 4, 5, 6]\n",
        "result = filter_even_numbers(data)\n",
        "print(result)"
      ],
      "metadata": {
        "id": "pTE8FwVTbP-d"
      },
      "execution_count": null,
      "outputs": []
    },
    {
      "cell_type": "markdown",
      "source": [],
      "metadata": {
        "id": "Fj1Xv7jQbSje"
      }
    },
    {
      "cell_type": "markdown",
      "source": [
        "**Example: Updating a Dictionary within a Function**"
      ],
      "metadata": {
        "id": "jNG3qCPRbS3W"
      }
    },
    {
      "cell_type": "code",
      "source": [
        "def update_employee_record(employee, updates):\n",
        "    for key, value in updates.items():\n",
        "        employee[key] = value\n",
        "    return employee\n",
        "\n",
        "employee_record = {'id': 'E002', 'name': 'Bob', 'department': 'Marketing'}\n",
        "updates = {'department': 'Sales', 'position': 'Sales Manager'}\n",
        "updated_record = update_employee_record(employee_record, updates)\n",
        "print(updated_record)"
      ],
      "metadata": {
        "id": "ummjFTzkbVTx"
      },
      "execution_count": null,
      "outputs": []
    },
    {
      "cell_type": "code",
      "source": [],
      "metadata": {
        "id": "Ok04fPiXbXrr"
      },
      "execution_count": null,
      "outputs": []
    },
    {
      "cell_type": "markdown",
      "source": [
        "## **4. Modules and Packages**\n",
        "\n",
        "Modules and packages help organize code into manageable and reusable components."
      ],
      "metadata": {
        "id": "BX7gK8IebX7-"
      }
    },
    {
      "cell_type": "code",
      "source": [
        "import csv\n",
        "\n",
        "def read_csv_file(filename):\n",
        "    data = []\n",
        "    with open(filename, mode='r') as file:\n",
        "        csv_reader = csv.DictReader(file)\n",
        "        for row in csv_reader:\n",
        "            data.append(row)\n",
        "    return data\n",
        "\n",
        " csv_data = read_csv_file('employees.csv')\n",
        " print(csv_data)"
      ],
      "metadata": {
        "id": "uqUKL0mWbitO"
      },
      "execution_count": null,
      "outputs": []
    },
    {
      "cell_type": "markdown",
      "source": [
        "### **Creating and Importing Custom Modules**\n",
        "\n",
        "**Problem:** You have utility functions for data cleaning that you want to reuse across different scripts.\n",
        "\n",
        "**Solution:** Create a custom module named `data_cleaning.py`."
      ],
      "metadata": {
        "id": "tgDD3i1GbhLh"
      }
    },
    {
      "cell_type": "code",
      "source": [
        "\n",
        "def remove_null_values(data_list):\n",
        "    return [item for item in data_list if item is not None]\n",
        "\n",
        "def standardize_text(text):\n",
        "    return text.strip().lower()\n",
        "\n",
        "raw_data = ['  Alice ', None, 'Bob', '  ', 'Charlie', None]\n",
        "clean_data = remove_null_values(raw_data)\n",
        "standardized_data = [standardize_text(name) for name in clean_data if name.strip()]\n",
        "print(standardized_data)"
      ],
      "metadata": {
        "id": "FhglThTSbn5p"
      },
      "execution_count": null,
      "outputs": []
    },
    {
      "cell_type": "markdown",
      "source": [
        "## **5. Comprehensive Examples and Problems**\n",
        "\n",
        "Let's apply what we've learned to more complex, real-world data problems."
      ],
      "metadata": {
        "id": "PcRrqYrrbuLo"
      }
    },
    {
      "cell_type": "markdown",
      "source": [
        "### **Problem ### **Problem 1: Data Aggregation Using Functions and Dictionaries**\n",
        "\n",
        "**Scenario:** You have transaction data containing user IDs and purchase amounts. You need to calculate the total amount spent by each user.1: Data Aggregation Using Functions and Dictionaries**\n",
        "\n",
        "**Scenario:** You have transaction data containing user IDs and purchase amounts. You need to calculate the total amount spent by each user."
      ],
      "metadata": {
        "id": "WhH8s7C4bwiv"
      }
    },
    {
      "cell_type": "code",
      "source": [
        "transactions = [\n",
        "    {'user_id': 'U001', 'amount': 250},\n",
        "    {'user_id': 'U002', 'amount': 150},\n",
        "    {'user_id': 'U001', 'amount': 200},\n",
        "    {'user_id': 'U003', 'amount': 300},\n",
        "    {'user_id': 'U002', 'amount': 100},\n",
        "]"
      ],
      "metadata": {
        "id": "KBKwr9GncBVD"
      },
      "execution_count": null,
      "outputs": []
    },
    {
      "cell_type": "markdown",
      "source": [
        "### **Problem 2: Data Deduplication Using Sets**\n",
        "\n",
        "**Scenario:** You have a list of email addresses collected from various sources, and you need to remove duplicates before sending out a newsletter."
      ],
      "metadata": {
        "id": "qzf0uOdDcYWT"
      }
    },
    {
      "cell_type": "code",
      "source": [
        "emails = [\n",
        "    'user1@example.com',\n",
        "    'user2@example.com',\n",
        "    'user3@example.com',\n",
        "    'user2@example.com',\n",
        "    'user4@example.com',\n",
        "    'user1@example.com',\n",
        "]"
      ],
      "metadata": {
        "id": "OpUEkwoEccw8"
      },
      "execution_count": null,
      "outputs": []
    },
    {
      "cell_type": "markdown",
      "source": [
        "### **Problem 3: Nested Data Processing with Functions and Dictionaries**\n",
        "\n",
        "**Scenario:** You have JSON data representing users and their associated orders. You need to extract a list of all products ordered by a specific user."
      ],
      "metadata": {
        "id": "Ed-9WCXPcjo6"
      }
    },
    {
      "cell_type": "markdown",
      "source": [
        "## **6. Conclusion**\n",
        "\n",
        "In this module, we've explored how to use fundamental data structures—**lists**, **sets**, and **dictionaries**—in conjunction with **functions** and **modules** to solve real-world data problems. Understanding these concepts is essential for data engineers, as they form the backbone of data manipulation and processing tasks.\n",
        "\n",
        "**Key Takeaways:**\n",
        "\n",
        "- **Lists** are ideal for ordered collections that may contain duplicates.\n",
        "- **Sets** are useful for storing unique elements and performing set operations.\n",
        "- **Dictionaries** are powerful for storing and accessing data via key-value pairs.\n",
        "- **Functions** promote code reusability and organization.\n",
        "- **Modules** help structure your codebase for better maintainability."
      ],
      "metadata": {
        "id": "4vHE1euFdyry"
      }
    },
    {
      "cell_type": "markdown",
      "source": [
        "## **7. Further Practice**\n",
        "\n",
        "To deepen your understanding, try solving the following problems:"
      ],
      "metadata": {
        "id": "tjW-rL9Rd1xu"
      }
    },
    {
      "cell_type": "code",
      "source": [
        "### **Exercise 1: Data Transformation with Functions and Lists**\n",
        "\n",
        "**Task:** Convert product prices to USD.\n",
        "\n",
        "**Data:**\n",
        "\n",
        "```python\n",
        "products = [\n",
        "    {'id': 'P001', 'price': 100, 'currency': 'EUR'},\n",
        "    {'id': 'P002', 'price': 200, 'currency': 'GBP'},\n",
        "    {'id': 'P003', 'price': 300, 'currency': 'USD'},\n",
        "]\n",
        "exchange_rates = {'EUR': 1.1, 'GBP': 1.3, 'USD': 1.0}"
      ],
      "metadata": {
        "id": "JiMx8KQCd3JN"
      },
      "execution_count": null,
      "outputs": []
    },
    {
      "cell_type": "code",
      "source": [],
      "metadata": {
        "id": "c638d3ayd6fG"
      },
      "execution_count": null,
      "outputs": []
    },
    {
      "cell_type": "markdown",
      "source": [
        "### **Exercise 2: Counting Frequency with Dictionaries**\n",
        "\n",
        "**Task:** Count the frequency of each word.\n",
        "\n",
        "**Data:**\n",
        "\n",
        "```python\n",
        "words = ['apple', 'banana', 'apple', 'orange', 'banana', 'apple']"
      ],
      "metadata": {
        "id": "zwMMIiz_eI7k"
      }
    },
    {
      "cell_type": "markdown",
      "source": [
        "### **Exercise 3: Set Operations for Data Comparison**\n",
        "\n",
        "**Task:** Find users who logged in on both days.\n",
        "\n",
        "**Data:**\n",
        "\n",
        "```python\n",
        "day1_users = {'U001', 'U002', 'U003', 'U004'}\n",
        "day2_users = {'U003', 'U004', 'U005', 'U006'}"
      ],
      "metadata": {
        "id": "cW_bq25teL48"
      }
    },
    {
      "cell_type": "markdown",
      "source": [
        "## **8. Additional Resources**\n",
        "\n",
        "- **Python Official Documentation**\n",
        "  - [Data Structures](https://docs.python.org/3/tutorial/datastructures.html)\n",
        "  - [Defining Functions](https://docs.python.org/3/tutorial/controlflow.html#defining-functions)\n",
        "  - [Modules](https://docs.python.org/3/tutorial/modules.html)\n",
        "- **Books**\n",
        "  - *Python Crash Course* by Eric Matthes\n",
        "  - *Learning Python* by Mark Lutz\n",
        "- **Online Tutorials**\n",
        "  - [W3Schools Python Tutorial](https://www.w3schools.com/python/)\n",
        "  - [Real Python Tutorials](https://realpython.com/)"
      ],
      "metadata": {
        "id": "ogKEKq59eQ8X"
      }
    },
    {
      "cell_type": "markdown",
      "source": [
        "# **Object-Oriented Programming (OOP) in Python for Data Engineering**\n",
        "\n",
        "In this module, we'll explore the fundamentals of **Object-Oriented Programming (OOP)** in Python. You'll learn how to model data using classes and objects, create reusable code with methods, and use OOP principles to build data structures that can be serialized into formats like CSV and JSON.\n",
        "\n",
        "## **Key Topics Covered:**\n",
        "1. [Introduction to OOP Concepts](#1-introduction-to-oop-concepts)\n",
        "    - [Classes and Objects](#classes-and-objects)\n",
        "    - [Attributes and Methods](#attributes-and-methods)\n",
        "2. [Modeling Data Using Classes](#2-modeling-data-using-classes)\n",
        "3. [Generating Data Using OOP](#3-generating-data-using-oop)\n",
        "    - [Creating a CSV File from Class Instances](#creating-a-csv-file-from-class-instances)\n",
        "    - [Converting Class Instances to JSON](#converting-class-instances-to-json)\n",
        "4. [Serialization and Deserialization](#4-serialization-and-deserialization)"
      ],
      "metadata": {
        "id": "AFokhmlgetJE"
      }
    },
    {
      "cell_type": "markdown",
      "source": [
        "## **1. Introduction to OOP Concepts**\n",
        "\n",
        "OOP is a programming paradigm based on the concept of \"objects,\" which are instances of classes. Classes define the structure and behavior of objects, making it easier to model real-world data.\n",
        "\n",
        "### **1.1 Classes and Objects**\n",
        "\n",
        "- A **Class** is a blueprint for creating objects. It defines a set of attributes (data) and methods (behavior).\n",
        "- An **Object** is an instance of a class.\n",
        "\n",
        "**Example: Defining a Basic Class and Creating Objects**\n"
      ],
      "metadata": {
        "id": "PnFoS3W1ewbu"
      }
    },
    {
      "cell_type": "code",
      "source": [
        "\n",
        "# Defining a basic class\n",
        "class Car:\n",
        "    def __init__(self, make, model, year):\n",
        "        self.make = make\n",
        "        self.model = model\n",
        "        self.year = year\n",
        "\n",
        "# Creating objects (instances of the Car class)\n",
        "car1 = Car(\"Toyota\", \"Corolla\", 2020)\n",
        "car2 = Car(\"Honda\", \"Civic\", 2019)\n",
        "\n",
        "print(car1.make, car1.model, car1.year)\n",
        "print(car2.make, car2.model, car2.year)"
      ],
      "metadata": {
        "id": "U0XzEpV0l07q"
      },
      "execution_count": null,
      "outputs": []
    },
    {
      "cell_type": "markdown",
      "source": [
        "---\n",
        "\n",
        "```markdown\n",
        "### **1.2 Attributes and Methods**\n",
        "\n",
        "- **Attributes** are variables associated with an object (e.g., `make`, `model`, `year` for a `Car` class).\n",
        "- **Methods** are functions that belong to a class and define behaviors for the objects.\n",
        "\n",
        "**Example: Adding Methods to a Class**"
      ],
      "metadata": {
        "id": "KVViieMNl8AS"
      }
    },
    {
      "cell_type": "markdown",
      "source": [],
      "metadata": {
        "id": "NpGiEhvxmLfv"
      }
    },
    {
      "cell_type": "code",
      "source": [
        "\n",
        "# Extending the Car class to include a method\n",
        "class Car:\n",
        "    def __init__(self, make, model, year):\n",
        "        self.make = make\n",
        "        self.model = model\n",
        "        self.year = year\n",
        "\n",
        "    # Method to return a formatted description\n",
        "    def description(self):\n",
        "        return f\"{self.year} {self.make} {self.model}\"\n",
        "\n",
        "# Creating and using the Car objects\n",
        "car1 = Car(\"Toyota\", \"Corolla\", 2020)\n",
        "car2 = Car(\"Honda\", \"Civic\", 2019)\n",
        "\n",
        "print(car1.description())  # Output: 2020 Toyota Corolla\n",
        "print(car2.description())  # Output: 2019 Honda Civic"
      ],
      "metadata": {
        "id": "bp8mc96bmAct"
      },
      "execution_count": null,
      "outputs": []
    },
    {
      "cell_type": "markdown",
      "source": [
        " ---\n",
        "\n",
        "```markdown\n",
        "## **2. Modeling Data Using Classes**\n",
        "\n",
        "Classes are particularly useful for modeling data in a structured way, such as representing a data schema in a data engineering context.\n",
        "\n",
        "**Example: Modeling a Database Schema**\n",
        "\n",
        "Let's define a `Book` class to represent books in a library system, including attributes like `title`, `author`, `isbn`, and `year`."
      ],
      "metadata": {
        "id": "xQOi34RtmMan"
      }
    },
    {
      "cell_type": "code",
      "source": [
        "\n",
        "class Book:\n",
        "    def __init__(self, title, author, isbn, year):\n",
        "        self.title = title\n",
        "        self.author = author\n",
        "        self.isbn = isbn\n",
        "        self.year = year\n",
        "\n",
        "    def get_info(self):\n",
        "        return f\"'{self.title}' by {self.author} (ISBN: {self.isbn}, Year: {self.year})\"\n",
        "\n",
        "# Creating book instances\n",
        "book1 = Book(\"1984\", \"George Orwell\", \"1234567890\", 1949)\n",
        "book2 = Book(\"To Kill a Mockingbird\", \"Harper Lee\", \"0987654321\", 1960)\n",
        "\n",
        "print(book1.get_info())\n",
        "print(book2.get_info())"
      ],
      "metadata": {
        "id": "16Em_Q_BmTCf"
      },
      "execution_count": null,
      "outputs": []
    },
    {
      "cell_type": "markdown",
      "source": [
        "---\n",
        "\n",
        "```markdown\n",
        "## **3. Generating Data Using OOP**\n",
        "\n",
        "One powerful use of OOP in data engineering is to generate and manipulate structured data easily. You can use classes to create data models and then export this data into formats like CSV or JSON.\n",
        "\n",
        "### **3.1 Creating a CSV File from Class Instances**\n",
        "\n",
        "**Example: Generating a CSV File for Employee Data**"
      ],
      "metadata": {
        "id": "tYa6ozdlmbOz"
      }
    },
    {
      "cell_type": "code",
      "source": [
        "import csv\n",
        "\n",
        "# Defining the Employee class\n",
        "class Employee:\n",
        "    def __init__(self, emp_id, name, department, salary):\n",
        "        self.emp_id = emp_id\n",
        "        self.name = name\n",
        "        self.department = department\n",
        "        self.salary = salary\n",
        "\n",
        "    def to_dict(self):\n",
        "        return {\n",
        "            'emp_id': self.emp_id,\n",
        "            'name': self.name,\n",
        "            'department': self.department,\n",
        "            'salary': self.salary\n",
        "        }\n",
        "\n",
        "# Creating employee instances\n",
        "employees = [\n",
        "    Employee(1, \"Alice\", \"Engineering\", 90000),\n",
        "    Employee(2, \"Bob\", \"Sales\", 80000),\n",
        "    Employee(3, \"Charlie\", \"Marketing\", 85000)\n",
        "]\n",
        "\n",
        "# Writing employee data to a CSV file\n",
        "csv_filename = 'employees.csv'\n",
        "with open(csv_filename, mode='w', newline='') as csv_file:\n",
        "    fieldnames = ['emp_id', 'name', 'department', 'salary']\n",
        "    writer = csv.DictWriter(csv_file, fieldnames=fieldnames)\n",
        "\n",
        "    writer.writeheader()\n",
        "    for emp in employees:\n",
        "        writer.writerow(emp.to_dict())\n",
        "\n",
        "print(f\"Data successfully written to {csv_filename}\")"
      ],
      "metadata": {
        "id": "M1xbRJaCm5cG"
      },
      "execution_count": null,
      "outputs": []
    },
    {
      "cell_type": "markdown",
      "source": [
        "---\n",
        "\n",
        "```markdown\n",
        "### **3.2 Converting Class Instances to JSON**\n",
        "\n",
        "**Example: Serializing a List of Objects to JSON**"
      ],
      "metadata": {
        "id": "aKZoz8wUm_9u"
      }
    },
    {
      "cell_type": "markdown",
      "source": [],
      "metadata": {
        "id": "Vt-bT1ElnNk2"
      }
    },
    {
      "cell_type": "code",
      "source": [
        "\n",
        "import json\n",
        "\n",
        "# Defining a Product class\n",
        "class Product:\n",
        "    def __init__(self, product_id, name, price, stock):\n",
        "        self.product_id = product_id\n",
        "        self.name = name\n",
        "        self.price = price\n",
        "        self.stock = stock\n",
        "\n",
        "# Creating a list of Product instances\n",
        "products = [\n",
        "    Product(101, \"Laptop\", 1500.00, 50),\n",
        "    Product(102, \"Smartphone\", 800.00, 100),\n",
        "    Product(103, \"Tablet\", 400.00, 200)\n",
        "]\n",
        "\n",
        "# Converting Product instances to dictionaries\n",
        "products_list = [product.__dict__ for product in products]\n",
        "\n",
        "# Serializing the list to JSON\n",
        "json_data = json.dumps(products_list, indent=4)\n",
        "print(json_data)"
      ],
      "metadata": {
        "id": "CuIG7Vn8nGGT"
      },
      "execution_count": null,
      "outputs": []
    },
    {
      "cell_type": "markdown",
      "source": [
        "## **4. Serialization and Deserialization**\n",
        "\n",
        "**Serialization** is the process of converting an object into a format that can be easily saved or transmitted (e.g., converting a Python object to a JSON string or CSV row).  \n",
        "**Deserialization** is the reverse process, where data from formats like JSON or CSV is converted back into Python objects.\n",
        "\n",
        "**Example: Saving and Loading Application Settings**\n",
        "\n",
        "```\n",
        "---\n",
        "\n",
        "```python\n",
        "class Settings:\n",
        "    def __init__(self, theme, notifications_enabled):\n",
        "        self.theme = theme\n",
        "        self.notifications_enabled = notifications_enabled\n",
        "\n",
        "    def save_to_json(self, filename):\n",
        "        data = self.__dict__\n",
        "        with open(filename, 'w') as json_file:\n",
        "            json.dump(data, json_file)\n",
        "\n",
        "    @classmethod\n",
        "    def load_from_json(cls, filename):\n",
        "        with open(filename, 'r') as json_file:\n",
        "            data = json.load(json_file)\n",
        "            return cls(**data)\n",
        "\n",
        "# Creating a settings object\n",
        "app_settings = Settings(theme=\"dark\", notifications_enabled=True)\n",
        "\n",
        "# Saving settings to a file\n",
        "app_settings.save_to_json('settings.json')\n",
        "\n",
        "# Loading settings from a file\n",
        "loaded_settings = Settings.load_from_json('settings.json')\n",
        "print(loaded_settings.__dict__)\n",
        "```\n",
        "\n"
      ],
      "metadata": {
        "id": "ujna6WGpnOYb"
      }
    },
    {
      "cell_type": "markdown",
      "source": [
        "---\n",
        "\n",
        "```markdown\n",
        "# **Conclusion**\n",
        "\n",
        "In this section, you've learned how to use **OOP concepts** in Python to:\n",
        "\n",
        "- Define and use classes and objects.\n",
        "- Model data in a structured way using classes.\n",
        "- Generate structured data, and save it to formats like CSV and JSON.\n",
        "- Serialize and deserialize data for persistence and transmission.\n",
        "\n",
        "OOP allows you to model real-world entities as classes and objects, making your code modular, reusable, and easy to maintain."
      ],
      "metadata": {
        "id": "P0XLJkz6nmKs"
      }
    },
    {
      "cell_type": "markdown",
      "source": [
        "# **Further Practice**\n",
        "\n",
        "### **Exercise 1: Create a Student Class**\n",
        "\n",
        "1. Define a `Student` class with attributes like `student_id`, `name`, `major`, and `gpa`.\n",
        "2. Add methods to calculate and update the `gpa`.\n",
        "3. Create several instances of `Student` and serialize them into JSON.\n",
        "\n",
        "### **Exercise 2: Generate CSV Data for an E-Commerce System**\n",
        "\n",
        "1. Create a `Customer` class with attributes like `customer_id`, `name`, `email`, and `address`.\n",
        "2. Create a `Product` class with attributes like `product_id`, `name`, `price`, and `category`.\n",
        "3. Write code to generate a list of customers and products and save the data to two separate CSV files.\n",
        "\n",
        "---"
      ],
      "metadata": {
        "id": "acJ6f0bdnrGu"
      }
    }
  ]
}